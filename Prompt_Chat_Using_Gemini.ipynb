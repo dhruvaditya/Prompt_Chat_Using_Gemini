{
  "nbformat": 4,
  "nbformat_minor": 0,
  "metadata": {
    "colab": {
      "provenance": [],
      "authorship_tag": "ABX9TyN5WXmvhLX81Gw1Noco2id6",
      "include_colab_link": true
    },
    "kernelspec": {
      "name": "python3",
      "display_name": "Python 3"
    },
    "language_info": {
      "name": "python"
    }
  },
  "cells": [
    {
      "cell_type": "markdown",
      "metadata": {
        "id": "view-in-github",
        "colab_type": "text"
      },
      "source": [
        "<a href=\"https://colab.research.google.com/github/dhruvaditya/Prompt_Chat_Using_Gemini/blob/main/Prompt_Chat_Using_Gemini.ipynb\" target=\"_parent\"><img src=\"https://colab.research.google.com/assets/colab-badge.svg\" alt=\"Open In Colab\"/></a>"
      ]
    },
    {
      "cell_type": "markdown",
      "source": [
        "Created by Aditya Raj\n"
      ],
      "metadata": {
        "id": "qajRmk98KSBS"
      }
    },
    {
      "cell_type": "code",
      "execution_count": 2,
      "metadata": {
        "id": "FdSCRjU1J4hD"
      },
      "outputs": [],
      "source": [
        "#Install and Import\n",
        "!pip install -U -q google-generativeai"
      ]
    },
    {
      "cell_type": "code",
      "source": [
        "import google.generativeai as genai\n",
        "import json\n",
        "import pprint\n",
        "import base64\n",
        "import requests\n",
        "import mimetypes\n",
        "import pathlib\n",
        "from IPython.display import Markdown"
      ],
      "metadata": {
        "id": "6hH8LyfzLolW"
      },
      "execution_count": 3,
      "outputs": []
    },
    {
      "cell_type": "code",
      "source": [
        "from google.colab import userdata\n",
        "\n",
        "API_KEY=userdata.get('API_KEY')"
      ],
      "metadata": {
        "id": "fF0bEEGCMHqW"
      },
      "execution_count": 5,
      "outputs": []
    },
    {
      "cell_type": "code",
      "source": [
        "#giving api key\n",
        "genai.configure(api_key=API_KEY)"
      ],
      "metadata": {
        "id": "xafRmyJCMQKt"
      },
      "execution_count": 6,
      "outputs": []
    },
    {
      "cell_type": "markdown",
      "source": [
        "Calling the model and generating the response"
      ],
      "metadata": {
        "id": "ZrG3Ki72MiRk"
      }
    },
    {
      "cell_type": "code",
      "source": [
        "model=\"gemini-pro\""
      ],
      "metadata": {
        "id": "jHOwourEMpOj"
      },
      "execution_count": 13,
      "outputs": []
    },
    {
      "cell_type": "markdown",
      "source": [
        "Parsing the arguments"
      ],
      "metadata": {
        "id": "8PWlz2udNIji"
      }
    },
    {
      "cell_type": "code",
      "source": [
        "contents_b64 = \"W3sicm9sZSI6InVzZXIiLCAicGFydHMiIDogW3sidGV4dCI6ICJoZWxsbyJ9XX0sIHsicm9sZSI6ICJtb2RlbCIsICJwYXJ0cyI6IFt7InRleHQiOiAiSGVsbG8hIEhvdyBjYW4gSSBhc3Npc3QgeW91IHRvZGF5PyJ9XX1d\" # @param {isTemplate: true}\n",
        "generation_config_b64 = \"e30=\" # @param {isTemplate: true}\n",
        "safety_settings_b64 = \"e30=\" # @param {isTemplate: true}\n",
        "user_input_b64 = '' #@param {isTemplate: true}\n",
        "\n",
        "contents = json.loads(base64.b64decode(contents_b64))\n",
        "generation_config = json.loads(base64.b64decode(generation_config_b64))\n",
        "safety_settings = json.loads(base64.b64decode(safety_settings_b64))\n",
        "user_input = base64.b64decode(user_input_b64).decode()\n",
        "stream = False"
      ],
      "metadata": {
        "id": "IX5kdy6_NIMy"
      },
      "execution_count": 8,
      "outputs": []
    },
    {
      "cell_type": "markdown",
      "source": [
        "Printing Contents, Pre display before user input"
      ],
      "metadata": {
        "id": "s6XODOobKQhT"
      }
    },
    {
      "cell_type": "code",
      "source": [
        "contents"
      ],
      "metadata": {
        "colab": {
          "base_uri": "https://localhost:8080/"
        },
        "id": "WlSWBQI_Nkr5",
        "outputId": "8340eebc-0e1d-4812-d48e-012158343cb1"
      },
      "execution_count": 9,
      "outputs": [
        {
          "output_type": "execute_result",
          "data": {
            "text/plain": [
              "[{'role': 'user', 'parts': [{'text': 'hello'}]},\n",
              " {'role': 'model', 'parts': [{'text': 'Hello! How can I assist you today?'}]}]"
            ]
          },
          "metadata": {},
          "execution_count": 9
        }
      ]
    },
    {
      "cell_type": "markdown",
      "source": [
        "Here we can give any input to the model, inside double quotation."
      ],
      "metadata": {
        "id": "G8tbRbg3N9eA"
      }
    },
    {
      "cell_type": "code",
      "source": [
        "user_input=\"Tell me something about Generative AI\""
      ],
      "metadata": {
        "id": "wrN1wkqoN2JQ"
      },
      "execution_count": 11,
      "outputs": []
    },
    {
      "cell_type": "code",
      "source": [
        "#Calling the model and generating the response\n",
        "gemini=genai.GenerativeModel(model_name=model)\n",
        "chat=gemini.start_chat(history=contents)\n",
        "response=chat.send_message(\n",
        "    user_input,stream=stream\n",
        ")"
      ],
      "metadata": {
        "id": "A9kaZQsxOIb_"
      },
      "execution_count": 14,
      "outputs": []
    },
    {
      "cell_type": "markdown",
      "source": [
        "Here, we can see the generated response:"
      ],
      "metadata": {
        "id": "WiNsObotNv_R"
      }
    },
    {
      "cell_type": "code",
      "source": [
        "display(Markdown(response.text))"
      ],
      "metadata": {
        "colab": {
          "base_uri": "https://localhost:8080/",
          "height": 726
        },
        "id": "ftRxSTInO-x1",
        "outputId": "a16f6937-9239-4d50-c37c-99f18c620033"
      },
      "execution_count": 15,
      "outputs": [
        {
          "output_type": "display_data",
          "data": {
            "text/plain": [
              "<IPython.core.display.Markdown object>"
            ],
            "text/markdown": "**Generative AI**\n\nGenerative AI, also known as generative adversarial networks (GANs), is a type of artificial intelligence (AI) that can create new data or content from scratch. Unlike traditional AI systems that are trained on existing data to perform specific tasks, generative AI uses unsupervised learning to generate novel and unique outputs.\n\n**How it Works:**\n\nGANs consist of two main components:\n\n* **Generator:** Creates new data or content by sampling from a latent space, which is a high-dimensional representation of possible outputs.\n* **Discriminator:** Evaluates the generated data and tries to distinguish it from real data.\n\nThe generator and discriminator are trained together in an adversarial manner. The generator aims to create data that fools the discriminator, while the discriminator aims to correctly identify real and generated data.\n\n**Applications:**\n\nGenerative AI has numerous applications, including:\n\n* **Image and Video Generation:** Creating realistic images, videos, and animations from scratch.\n* **Text Generation:** Producing coherent and grammatically correct text, such as articles, stories, and poems.\n* **Music Generation:** Composing new music pieces in various genres.\n* **Data Augmentation:** Generating synthetic data to enhance training datasets for machine learning models.\n* **Art and Design:** Creating unique and stylized artwork, logos, and patterns.\n\n**Benefits:**\n\n* **Novelty and Creativity:** Generative AI can produce highly original and diverse content that is indistinguishable from human-generated work.\n* **Data Scarcity:** It addresses the challenge of data scarcity by generating synthetic data that can supplement real-world datasets.\n* **Personalized Experiences:** Generative AI can be used to create tailored content and recommendations based on individual preferences.\n\n**Limitations:**\n\n* **Bias and Fairness:** Generative AI models can inherit biases from the training data they are trained on, leading to unfair or discriminatory outputs.\n* **Ethical Concerns:** The generation of highly realistic content may raise ethical questions about authenticity and potential misuse.\n* **Computational Requirements:** Training GANs can be computationally expensive, especially for large and complex datasets."
          },
          "metadata": {}
        }
      ]
    }
  ]
}